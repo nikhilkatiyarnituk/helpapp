{
  "nbformat": 4,
  "nbformat_minor": 0,
  "metadata": {
    "colab": {
      "provenance": [],
      "authorship_tag": "ABX9TyPj/dz7qk/WjBfdhCfrfncr",
      "include_colab_link": true
    },
    "kernelspec": {
      "name": "python3",
      "display_name": "Python 3"
    },
    "language_info": {
      "name": "python"
    }
  },
  "cells": [
    {
      "cell_type": "markdown",
      "metadata": {
        "id": "view-in-github",
        "colab_type": "text"
      },
      "source": [
        "<a href=\"https://colab.research.google.com/github/nikhilkatiyarnituk/helpapp/blob/main/200py_practice.ipynb\" target=\"_parent\"><img src=\"https://colab.research.google.com/assets/colab-badge.svg\" alt=\"Open In Colab\"/></a>"
      ]
    },
    {
      "cell_type": "code",
      "source": [
        "# swap two no without third variable\n",
        "var1=int(input(\"enter the value of var1:\"))\n",
        "var2=int(input(\"enter the value of var2:\"))\n",
        "var1=var1 + var2\n",
        "var2=var1 - var2\n",
        "var1=var1 - var2\n",
        "print(\"var1=\",var1,\"var2=\",var2)"
      ],
      "metadata": {
        "colab": {
          "base_uri": "https://localhost:8080/"
        },
        "id": "2VIcu-tK0_OJ",
        "outputId": "8a07b40b-a951-40af-c42f-6bffa4c89de3"
      },
      "execution_count": null,
      "outputs": [
        {
          "output_type": "stream",
          "name": "stdout",
          "text": [
            "enter the value of var1:5\n",
            "enter the value of var2:3\n",
            "var1= 3 var2= 5\n"
          ]
        }
      ]
    },
    {
      "cell_type": "code",
      "source": [
        "# Write a Program to extract each digit from an integer in the reverse order.\n",
        "\n",
        "num=int(input(\"enter the value of num:\"))\n",
        "num=str (num)[::-1]\n",
        "print(f\"{num}\")"
      ],
      "metadata": {
        "colab": {
          "base_uri": "https://localhost:8080/"
        },
        "id": "kWkIoNza2f7q",
        "outputId": "b07c436b-5601-453a-d464-16b27f81b50f"
      },
      "execution_count": null,
      "outputs": [
        {
          "output_type": "stream",
          "name": "stdout",
          "text": [
            "enter the value of num:123\n",
            "321\n"
          ]
        }
      ]
    },
    {
      "cell_type": "code",
      "source": [
        "#  Write a program that will give you the sum of 3 digits\n",
        "num=int(input(\"enter the 3 digit num:\"))\n",
        "a=num//100\n",
        "b=(num%100)//10\n",
        "c=num%10\n",
        "print(a+b+c)"
      ],
      "metadata": {
        "colab": {
          "base_uri": "https://localhost:8080/"
        },
        "id": "Bbni74EZ5_Nt",
        "outputId": "4fc11fa1-c7b4-49d2-d422-995c82e85a90"
      },
      "execution_count": null,
      "outputs": [
        {
          "output_type": "stream",
          "name": "stdout",
          "text": [
            "enter the 3 digit num:123\n",
            "6\n"
          ]
        }
      ]
    },
    {
      "cell_type": "code",
      "source": [
        "# Write a program that will reverse a four digit number.Also it checks whether the reverse is true\n",
        "num=int(input(\"enter the 3 digit num:\"))\n",
        "a=num//1000\n",
        "b=(num%1000)//100\n",
        "c=(num%100)//10\n",
        "d=num%10\n",
        "print(d,c,b,a)\n",
        "#reverse formula\n",
        "rev=1000*a+100*b+10*c+d\n",
        "if rev==num:\n",
        "  print(\"True\")\n",
        "else:\n",
        "  print(\"False\")"
      ],
      "metadata": {
        "colab": {
          "base_uri": "https://localhost:8080/"
        },
        "id": "_Olk8EuC7g99",
        "outputId": "9a7ee2fe-c00b-4ce8-a953-8ea3ff6b6442"
      },
      "execution_count": null,
      "outputs": [
        {
          "output_type": "stream",
          "name": "stdout",
          "text": [
            "enter the 3 digit num:1234\n",
            "4 3 2 1\n",
            "True\n"
          ]
        }
      ]
    },
    {
      "cell_type": "code",
      "source": [
        "# Write a program to find the euclidean distance between two coordinates.\n",
        "import math\n",
        "x1=int(input(\"enter the x1:\"))\n",
        "x2=int(input(\"enter the x2:\"))\n",
        "y1=int(input(\"enter the y1:\"))\n",
        "y2=int(input(\"enter the y2:\"))\n",
        "X=[x1,x2]\n",
        "Y=[y1,y2]\n",
        "print(\"=\"*100)\n",
        "print(\"euclidian dist=\",round(math.dist(X,Y),2))\n"
      ],
      "metadata": {
        "colab": {
          "base_uri": "https://localhost:8080/"
        },
        "id": "WaVm5_jT-g9-",
        "outputId": "c50417a0-a819-4439-c6e9-458e3c98c557"
      },
      "execution_count": null,
      "outputs": [
        {
          "output_type": "stream",
          "name": "stdout",
          "text": [
            "enter the x1:1\n",
            "enter the x2:2\n",
            "enter the y1:3\n",
            "enter the y2:4\n",
            "====================================================================================================\n",
            "euclidian dist= 2.83\n"
          ]
        }
      ]
    },
    {
      "cell_type": "code",
      "source": [
        "# Write a program that will tell whether the given number is divisible by 3 & 6\n",
        "x1=int(input(\"enter the x1:\"))\n",
        "if x1%2==0 and x1%3==0:\n",
        "  print(\"yes divisible by 3,6\")\n",
        "else:\n",
        "  print(\"not divisible\")\n"
      ],
      "metadata": {
        "colab": {
          "base_uri": "https://localhost:8080/"
        },
        "id": "QbI7JSRFAfom",
        "outputId": "3b282a2f-3248-4a6b-d3ed-8e21a3465243"
      },
      "execution_count": null,
      "outputs": [
        {
          "output_type": "stream",
          "name": "stdout",
          "text": [
            "enter the x1:13\n",
            "not divisible\n"
          ]
        }
      ]
    },
    {
      "cell_type": "code",
      "source": [
        "# Write a program that will take three digits from the user and add the square of each digit.\n",
        "num=int(input(\"enter the 3 digit num:\"))\n",
        "a=num//100\n",
        "b=(num%100)//10\n",
        "c=num%10\n",
        "print(a*a+b*b+c*c)"
      ],
      "metadata": {
        "colab": {
          "base_uri": "https://localhost:8080/"
        },
        "id": "-bf8ofJyBQnC",
        "outputId": "2b091b6e-b02f-4058-f912-e0c76e1a0f5e"
      },
      "execution_count": null,
      "outputs": [
        {
          "output_type": "stream",
          "name": "stdout",
          "text": [
            "enter the 3 digit num:123\n",
            "14\n"
          ]
        }
      ]
    },
    {
      "cell_type": "code",
      "source": [
        "#  Write a program that will check whether the number is (armstrong if power 3)narcissist number number or not.\n",
        "# An Armstrong number is one whose sum of digits raised to the power \\n three equals thenumber itself. 371, for example, is an Armstrong number because \\n3**3 + 7**3 + 1**3 =371\n",
        "num=int(input(\"enter the 4 digit num:\"))\n",
        "a=num//1000\n",
        "b=(num%1000)//100\n",
        "c=(num%100)//10\n",
        "d=num%10\n",
        "if a**4+b**4+c**4+d**4==num:\n",
        "  print(\"num is armstrong\")\n",
        "else:\n",
        "  print(\"not armstrong\")"
      ],
      "metadata": {
        "colab": {
          "base_uri": "https://localhost:8080/"
        },
        "id": "eTRpkMOKByrr",
        "outputId": "fac043d1-b54c-447f-b0b7-9cbaa9c26b67"
      },
      "execution_count": null,
      "outputs": [
        {
          "output_type": "stream",
          "name": "stdout",
          "text": [
            "enter the digit num:1634\n",
            "num is armstrong\n"
          ]
        }
      ]
    },
    {
      "cell_type": "code",
      "source": [
        "# Display three string “Name”, “Is”, “James” as “Name ** Is ** James\n",
        "\n",
        "print(\"name\",\"is\",\"nikhil\",sep=\" @@ \")\n",
        "\n",
        "# Display float number with 2 decimal places using print()\n",
        "\n",
        "num=54.4362789\n",
        "print(float(round(num,2)))\n",
        "\n",
        "\n"
      ],
      "metadata": {
        "id": "oTGvgOXZDpFT",
        "colab": {
          "base_uri": "https://localhost:8080/"
        },
        "outputId": "c5f4eb2f-9415-413e-de34-1f159a67e6ce"
      },
      "execution_count": null,
      "outputs": [
        {
          "output_type": "stream",
          "name": "stdout",
          "text": [
            "name @@ is @@ nikhil\n"
          ]
        }
      ]
    },
    {
      "cell_type": "code",
      "source": [
        "# Print all factors of a given number provided by the user.\n",
        "num=int(input(\"enter the num\"))\n",
        "list1=[]\n",
        "for i in range(1,num):\n",
        "  if num%i==0:\n",
        "    list1.append(i)\n",
        "print(list1)\n"
      ],
      "metadata": {
        "colab": {
          "base_uri": "https://localhost:8080/"
        },
        "id": "NWJmAt3SQQCj",
        "outputId": "2a86fab6-7dcf-49ce-cf18-6391d05a5636"
      },
      "execution_count": null,
      "outputs": [
        {
          "output_type": "stream",
          "name": "stdout",
          "text": [
            "enter the num24\n",
            "[1, 2, 3, 4, 6, 8, 12]\n"
          ]
        }
      ]
    },
    {
      "cell_type": "code",
      "source": [
        "# Accept a list of 5 float numbers as an input from the user\n",
        "\n",
        "list1=[]\n",
        "n=5\n",
        "while n>=1:\n",
        "  num=float(input(\"enter the float num:\"))\n",
        "  list1.append(num)\n",
        "  n=n-1\n",
        "print(list1)"
      ],
      "metadata": {
        "colab": {
          "base_uri": "https://localhost:8080/"
        },
        "id": "ylTHIOvMQc3W",
        "outputId": "11962301-71b4-497d-f5f6-48a262eb6428"
      },
      "execution_count": null,
      "outputs": [
        {
          "output_type": "stream",
          "name": "stdout",
          "text": [
            "enter the float num:1.1\n",
            "enter the float num:1.2\n",
            "enter the float num:1.3\n",
            "enter the float num:1.4\n",
            "enter the float num:1.5\n",
            "[1.1, 1.2, 1.3, 1.4, 1.5]\n"
          ]
        }
      ]
    },
    {
      "cell_type": "code",
      "source": [
        "# Accept any three string from one input() call\n",
        "inp=input(\"enter the three name with keep space in between\")\n",
        "sep=inp.split()\n",
        "name1=sep[0]\n",
        "name2=sep[1]\n",
        "name3=sep[2]\n",
        "print(name1)\n",
        "print(name2)\n",
        "print(name3)"
      ],
      "metadata": {
        "colab": {
          "base_uri": "https://localhost:8080/"
        },
        "id": "uI54cSpUSoPe",
        "outputId": "d26291d7-b796-43dc-ad82-a2480727c83d"
      },
      "execution_count": null,
      "outputs": [
        {
          "output_type": "stream",
          "name": "stdout",
          "text": [
            "enter the three name with keep @ in betweennikhil katiyar kumar\n",
            "nikhil\n",
            "katiyar\n",
            "kumar\n"
          ]
        }
      ]
    },
    {
      "cell_type": "code",
      "source": [
        "# Format variables using a string.format() method. Write a program to use string.format() methodto format the following three variables as per the expected output\n",
        "totalmoney=input()\n",
        "quantity=input()\n",
        "price=input()\n",
        "print(\"i have {} dollar so i can buy {} footwall for {} doller\".format(totalmoney,quantity,price))"
      ],
      "metadata": {
        "colab": {
          "base_uri": "https://localhost:8080/"
        },
        "id": "NqixfGVVUMHn",
        "outputId": "845a2fcd-3eab-4cd8-8287-cd8af06abb34"
      },
      "execution_count": null,
      "outputs": [
        {
          "output_type": "stream",
          "name": "stdout",
          "text": [
            "1200\n",
            "4\n",
            "450\n",
            "i have 1200 dollar so i can buy 4 footwall for 450 doller\n"
          ]
        }
      ]
    },
    {
      "cell_type": "code",
      "source": [
        "# Write a program to find the simple interest when the value of principle,rate of interest and timeperiod is given.\n",
        "p=float(input(\"principal amount\"))\n",
        "r=float(input(\"rate of intrest\"))\n",
        "t=float(input(\"time in year\"))\n",
        "si=(p*r*t)/100\n",
        "print(si)\n",
        "td=p+si\n",
        "print(td)"
      ],
      "metadata": {
        "colab": {
          "base_uri": "https://localhost:8080/"
        },
        "id": "bppI2cPmVf9m",
        "outputId": "309fa877-a1e8-4483-9deb-cd75d0685f9a"
      },
      "execution_count": null,
      "outputs": [
        {
          "output_type": "stream",
          "name": "stdout",
          "text": [
            "principal amount67000\n",
            "rate of intrest12\n",
            "time in year5\n",
            "40200.0\n",
            "107200.0\n"
          ]
        }
      ]
    },
    {
      "cell_type": "code",
      "source": [
        "# Write a program to find the volume of the cylinder. Also find the cost when ,when the cost of1litre milk is 40Rs.\n",
        "r=float(input(\"radious:\"))\n",
        "h=float(input(\"height:\"))\n",
        "vol=(3.14*r*r*h)\n",
        "cost=(40*vol)\n",
        "print(f\"volume of cylender is {vol} and total cost of {vol} liter  milk is {cost}\")"
      ],
      "metadata": {
        "colab": {
          "base_uri": "https://localhost:8080/"
        },
        "id": "6_eVHieTW3UO",
        "outputId": "994da9ea-6a9f-4414-daa3-4b2dbd31a98c"
      },
      "execution_count": null,
      "outputs": [
        {
          "output_type": "stream",
          "name": "stdout",
          "text": [
            "radious:2\n",
            "height:4\n",
            "volume of cylender is 50.24 and total cost of 50.24 liter  milk is 2009.6000000000001\n"
          ]
        }
      ]
    },
    {
      "cell_type": "code",
      "source": [
        "def fabonacci(n):\n",
        "  if n==0 or n==1:\n",
        "    return n\n",
        "  else:\n",
        "    return fabonacci(n-1)+fabonacci(n-2)\n",
        "\n",
        "for i in range(1,11):\n",
        "  fabo=fabonacci(i)\n",
        "  print(fabo,end=\" \")"
      ],
      "metadata": {
        "colab": {
          "base_uri": "https://localhost:8080/"
        },
        "id": "hjjGhhEwYC2N",
        "outputId": "acbc4cc9-b927-4351-9a7e-a8409852ae6b"
      },
      "execution_count": null,
      "outputs": [
        {
          "output_type": "stream",
          "name": "stdout",
          "text": [
            "1 1 2 3 5 8 13 21 34 55 "
          ]
        }
      ]
    },
    {
      "cell_type": "code",
      "source": [
        "#search any given num in list aur not\n",
        "list1=[]\n",
        "n=int(input(\"enter the number that has in list\"))\n",
        "while 1<=n:\n",
        "  num1=int(input(\"enter the list number 1 by on 1\"))\n",
        "  list1.append(num1)\n",
        "  n=n-1\n",
        "num2=int(input(\"enter the search num in list1 \"))\n",
        "for i in list1:\n",
        "  if num2==i:\n",
        "    print(\"yes match\")\n"
      ],
      "metadata": {
        "id": "e45GvxxPi2DE"
      },
      "execution_count": null,
      "outputs": []
    }
  ]
}