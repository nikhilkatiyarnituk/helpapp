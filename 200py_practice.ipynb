{
  "cells": [
    {
      "cell_type": "markdown",
      "metadata": {
        "id": "view-in-github",
        "colab_type": "text"
      },
      "source": [
        "<a href=\"https://colab.research.google.com/github/nikhilkatiyarnituk/helpapp/blob/main/200py_practice.ipynb\" target=\"_parent\"><img src=\"https://colab.research.google.com/assets/colab-badge.svg\" alt=\"Open In Colab\"/></a>"
      ]
    },
    {
      "cell_type": "code",
      "execution_count": null,
      "metadata": {
        "colab": {
          "base_uri": "https://localhost:8080/"
        },
        "id": "2VIcu-tK0_OJ",
        "outputId": "8a07b40b-a951-40af-c42f-6bffa4c89de3"
      },
      "outputs": [
        {
          "name": "stdout",
          "output_type": "stream",
          "text": [
            "enter the value of var1:5\n",
            "enter the value of var2:3\n",
            "var1= 3 var2= 5\n"
          ]
        }
      ],
      "source": [
        "# swap two no without third variable\n",
        "var1=int(input(\"enter the value of var1:\"))\n",
        "var2=int(input(\"enter the value of var2:\"))\n",
        "var1=var1 + var2\n",
        "var2=var1 - var2\n",
        "var1=var1 - var2\n",
        "print(\"var1=\",var1,\"var2=\",var2)"
      ]
    },
    {
      "cell_type": "code",
      "execution_count": null,
      "metadata": {
        "colab": {
          "base_uri": "https://localhost:8080/"
        },
        "id": "kWkIoNza2f7q",
        "outputId": "b07c436b-5601-453a-d464-16b27f81b50f"
      },
      "outputs": [
        {
          "name": "stdout",
          "output_type": "stream",
          "text": [
            "enter the value of num:123\n",
            "321\n"
          ]
        }
      ],
      "source": [
        "# Write a Program to extract each digit from an integer in the reverse order.\n",
        "\n",
        "num=int(input(\"enter the value of num:\"))\n",
        "num=str (num)[::-1]\n",
        "print(f\"{num}\")"
      ]
    },
    {
      "cell_type": "code",
      "execution_count": null,
      "metadata": {
        "colab": {
          "base_uri": "https://localhost:8080/"
        },
        "id": "Bbni74EZ5_Nt",
        "outputId": "4fc11fa1-c7b4-49d2-d422-995c82e85a90"
      },
      "outputs": [
        {
          "name": "stdout",
          "output_type": "stream",
          "text": [
            "enter the 3 digit num:123\n",
            "6\n"
          ]
        }
      ],
      "source": [
        "#  Write a program that will give you the sum of 3 digits\n",
        "num=int(input(\"enter the 3 digit num:\"))\n",
        "a=num//100\n",
        "b=(num%100)//10\n",
        "c=num%10\n",
        "print(a+b+c)"
      ]
    },
    {
      "cell_type": "code",
      "execution_count": null,
      "metadata": {
        "colab": {
          "base_uri": "https://localhost:8080/"
        },
        "id": "_Olk8EuC7g99",
        "outputId": "9a7ee2fe-c00b-4ce8-a953-8ea3ff6b6442"
      },
      "outputs": [
        {
          "name": "stdout",
          "output_type": "stream",
          "text": [
            "enter the 3 digit num:1234\n",
            "4 3 2 1\n",
            "True\n"
          ]
        }
      ],
      "source": [
        "# Write a program that will reverse a four digit number.Also it checks whether the reverse is true\n",
        "num=int(input(\"enter the 3 digit num:\"))\n",
        "a=num//1000\n",
        "b=(num%1000)//100\n",
        "c=(num%100)//10\n",
        "d=num%10\n",
        "print(d,c,b,a)\n",
        "#reverse formula\n",
        "rev=1000*a+100*b+10*c+d\n",
        "if rev==num:\n",
        "  print(\"True\")\n",
        "else:\n",
        "  print(\"False\")"
      ]
    },
    {
      "cell_type": "code",
      "execution_count": null,
      "metadata": {
        "colab": {
          "base_uri": "https://localhost:8080/"
        },
        "id": "WaVm5_jT-g9-",
        "outputId": "c50417a0-a819-4439-c6e9-458e3c98c557"
      },
      "outputs": [
        {
          "name": "stdout",
          "output_type": "stream",
          "text": [
            "enter the x1:1\n",
            "enter the x2:2\n",
            "enter the y1:3\n",
            "enter the y2:4\n",
            "====================================================================================================\n",
            "euclidian dist= 2.83\n"
          ]
        }
      ],
      "source": [
        "# Write a program to find the euclidean distance between two coordinates.\n",
        "import math\n",
        "x1=int(input(\"enter the x1:\"))\n",
        "x2=int(input(\"enter the x2:\"))\n",
        "y1=int(input(\"enter the y1:\"))\n",
        "y2=int(input(\"enter the y2:\"))\n",
        "X=[x1,x2]\n",
        "Y=[y1,y2]\n",
        "print(\"=\"*100)\n",
        "print(\"euclidian dist=\",round(math.dist(X,Y),2))\n"
      ]
    },
    {
      "cell_type": "code",
      "execution_count": null,
      "metadata": {
        "id": "QbI7JSRFAfom"
      },
      "outputs": [],
      "source": [
        "# Write a program that will tell whether the given number is divisible by 3 & 6\n",
        "x1=int(input(\"enter the x1:\"))\n",
        "if x1%2==0 and x1%3==0:\n",
        "  print(\"yes divisible by 3,6\")\n",
        "else:\n",
        "  print(\"not divisible\")\n"
      ]
    },
    {
      "cell_type": "code",
      "execution_count": null,
      "metadata": {
        "colab": {
          "base_uri": "https://localhost:8080/"
        },
        "id": "-bf8ofJyBQnC",
        "outputId": "2b091b6e-b02f-4058-f912-e0c76e1a0f5e"
      },
      "outputs": [
        {
          "name": "stdout",
          "output_type": "stream",
          "text": [
            "enter the 3 digit num:123\n",
            "14\n"
          ]
        }
      ],
      "source": [
        "# Write a program that will take three digits from the user and add the square of each digit.\n",
        "num=int(input(\"enter the 3 digit num:\"))\n",
        "a=num//100\n",
        "b=(num%100)//10\n",
        "c=num%10\n",
        "print(a*a+b*b+c*c)"
      ]
    },
    {
      "cell_type": "code",
      "execution_count": null,
      "metadata": {
        "colab": {
          "base_uri": "https://localhost:8080/"
        },
        "id": "eTRpkMOKByrr",
        "outputId": "fac043d1-b54c-447f-b0b7-9cbaa9c26b67"
      },
      "outputs": [
        {
          "name": "stdout",
          "output_type": "stream",
          "text": [
            "enter the digit num:1634\n",
            "num is armstrong\n"
          ]
        }
      ],
      "source": [
        "#  Write a program that will check whether the number is (armstrong if power 3)narcissist number number or not.\n",
        "# An Armstrong number is one whose sum of digits raised to the power \\n three equals thenumber itself. 371, for example, is an Armstrong number because \\n3**3 + 7**3 + 1**3 =371\n",
        "num=int(input(\"enter the 4 digit num:\"))\n",
        "a=num//1000\n",
        "b=(num%1000)//100\n",
        "c=(num%100)//10\n",
        "d=num%10\n",
        "if a**4+b**4+c**4+d**4==num:\n",
        "  print(\"num is armstrong\")\n",
        "else:\n",
        "  print(\"not armstrong\")"
      ]
    },
    {
      "cell_type": "code",
      "execution_count": null,
      "metadata": {
        "colab": {
          "base_uri": "https://localhost:8080/"
        },
        "id": "oTGvgOXZDpFT",
        "outputId": "c5f4eb2f-9415-413e-de34-1f159a67e6ce"
      },
      "outputs": [
        {
          "name": "stdout",
          "output_type": "stream",
          "text": [
            "name @@ is @@ nikhil\n"
          ]
        }
      ],
      "source": [
        "# Display three string “Name”, “Is”, “James” as “Name ** Is ** James\n",
        "\n",
        "print(\"name\",\"is\",\"nikhil\",sep=\" @@ \")\n",
        "\n",
        "# Display float number with 2 decimal places using print()\n",
        "\n",
        "num=54.4362789\n",
        "print(float(round(num,2)))\n",
        "\n",
        "\n"
      ]
    },
    {
      "cell_type": "code",
      "execution_count": null,
      "metadata": {
        "colab": {
          "base_uri": "https://localhost:8080/"
        },
        "id": "NWJmAt3SQQCj",
        "outputId": "2a86fab6-7dcf-49ce-cf18-6391d05a5636"
      },
      "outputs": [
        {
          "name": "stdout",
          "output_type": "stream",
          "text": [
            "enter the num24\n",
            "[1, 2, 3, 4, 6, 8, 12]\n"
          ]
        }
      ],
      "source": [
        "# Print all factors of a given number provided by the user.\n",
        "num=int(input(\"enter the num\"))\n",
        "list1=[]\n",
        "for i in range(1,num):\n",
        "  if num%i==0:\n",
        "    list1.append(i)\n",
        "print(list1)\n"
      ]
    },
    {
      "cell_type": "code",
      "execution_count": null,
      "metadata": {
        "colab": {
          "base_uri": "https://localhost:8080/"
        },
        "id": "ylTHIOvMQc3W",
        "outputId": "11962301-71b4-497d-f5f6-48a262eb6428"
      },
      "outputs": [
        {
          "name": "stdout",
          "output_type": "stream",
          "text": [
            "enter the float num:1.1\n",
            "enter the float num:1.2\n",
            "enter the float num:1.3\n",
            "enter the float num:1.4\n",
            "enter the float num:1.5\n",
            "[1.1, 1.2, 1.3, 1.4, 1.5]\n"
          ]
        }
      ],
      "source": [
        "# Accept a list of 5 float numbers as an input from the user\n",
        "\n",
        "list1=[]\n",
        "n=5\n",
        "while n>=1:\n",
        "  num=float(input(\"enter the float num:\"))\n",
        "  list1.append(num)\n",
        "  n=n-1\n",
        "print(list1)"
      ]
    },
    {
      "cell_type": "code",
      "execution_count": null,
      "metadata": {
        "colab": {
          "base_uri": "https://localhost:8080/",
          "height": 194
        },
        "id": "ULHsXduFRcN-",
        "outputId": "d8b861b8-865d-4e63-b8ed-9081c835ac68"
      },
      "outputs": [
        {
          "ename": "FileNotFoundError",
          "evalue": "ignored",
          "output_type": "error",
          "traceback": [
            "\u001b[0;31m---------------------------------------------------------------------------\u001b[0m",
            "\u001b[0;31mFileNotFoundError\u001b[0m                         Traceback (most recent call last)",
            "\u001b[0;32m<ipython-input-8-46075895a8fd>\u001b[0m in \u001b[0;36m<cell line: 1>\u001b[0;34m()\u001b[0m\n\u001b[0;32m----> 1\u001b[0;31m \u001b[0;32mwith\u001b[0m \u001b[0mopen\u001b[0m\u001b[0;34m(\u001b[0m\u001b[0;34m\"text file.txt\"\u001b[0m\u001b[0;34m,\u001b[0m\u001b[0;34m'r'\u001b[0m\u001b[0;34m)\u001b[0m \u001b[0;32mas\u001b[0m \u001b[0mfp\u001b[0m\u001b[0;34m:\u001b[0m\u001b[0;34m\u001b[0m\u001b[0;34m\u001b[0m\u001b[0m\n\u001b[0m\u001b[1;32m      2\u001b[0m   \u001b[0mlines\u001b[0m\u001b[0;34m=\u001b[0m\u001b[0mfp\u001b[0m\u001b[0;34m.\u001b[0m\u001b[0mreadlines\u001b[0m\u001b[0;34m(\u001b[0m\u001b[0;34m)\u001b[0m\u001b[0;34m\u001b[0m\u001b[0;34m\u001b[0m\u001b[0m\n",
            "\u001b[0;31mFileNotFoundError\u001b[0m: [Errno 2] No such file or directory: 'text file.txt'"
          ]
        }
      ],
      "source": [
        "with open(\"text file.txt\",'r') as fp:\n",
        "  lines=fp.readlines()"
      ]
    },
    {
      "cell_type": "code",
      "execution_count": null,
      "metadata": {
        "colab": {
          "base_uri": "https://localhost:8080/"
        },
        "id": "uI54cSpUSoPe",
        "outputId": "d26291d7-b796-43dc-ad82-a2480727c83d"
      },
      "outputs": [
        {
          "name": "stdout",
          "output_type": "stream",
          "text": [
            "enter the three name with keep @ in betweennikhil katiyar kumar\n",
            "nikhil\n",
            "katiyar\n",
            "kumar\n"
          ]
        }
      ],
      "source": [
        "# Accept any three string from one input() call\n",
        "inp=input(\"enter the three name with keep space in between\")\n",
        "sep=inp.split()\n",
        "name1=sep[0]\n",
        "name2=sep[1]\n",
        "name3=sep[2]\n",
        "print(name1)\n",
        "print(name2)\n",
        "print(name3)"
      ]
    },
    {
      "cell_type": "code",
      "execution_count": null,
      "metadata": {
        "colab": {
          "base_uri": "https://localhost:8080/"
        },
        "id": "NqixfGVVUMHn",
        "outputId": "845a2fcd-3eab-4cd8-8287-cd8af06abb34"
      },
      "outputs": [
        {
          "name": "stdout",
          "output_type": "stream",
          "text": [
            "1200\n",
            "4\n",
            "450\n",
            "i have 1200 dollar so i can buy 4 footwall for 450 doller\n"
          ]
        }
      ],
      "source": [
        "# Format variables using a string.format() method. Write a program to use string.format() methodto format the following three variables as per the expected output\n",
        "totalmoney=input()\n",
        "quantity=input()\n",
        "price=input()\n",
        "print(\"i have {} dollar so i can buy {} footwall for {} doller\".format(totalmoney,quantity,price))"
      ]
    },
    {
      "cell_type": "code",
      "execution_count": null,
      "metadata": {
        "colab": {
          "base_uri": "https://localhost:8080/"
        },
        "id": "bppI2cPmVf9m",
        "outputId": "309fa877-a1e8-4483-9deb-cd75d0685f9a"
      },
      "outputs": [
        {
          "name": "stdout",
          "output_type": "stream",
          "text": [
            "principal amount67000\n",
            "rate of intrest12\n",
            "time in year5\n",
            "40200.0\n",
            "107200.0\n"
          ]
        }
      ],
      "source": [
        "# Write a program to find the simple interest when the value of principle,rate of interest and timeperiod is given.\n",
        "p=float(input(\"principal amount\"))\n",
        "r=float(input(\"rate of intrest\"))\n",
        "t=float(input(\"time in year\"))\n",
        "si=(p*r*t)/100\n",
        "print(si)\n",
        "td=p+si\n",
        "print(td)"
      ]
    },
    {
      "cell_type": "code",
      "execution_count": null,
      "metadata": {
        "colab": {
          "base_uri": "https://localhost:8080/"
        },
        "id": "6_eVHieTW3UO",
        "outputId": "994da9ea-6a9f-4414-daa3-4b2dbd31a98c"
      },
      "outputs": [
        {
          "name": "stdout",
          "output_type": "stream",
          "text": [
            "radious:2\n",
            "height:4\n",
            "volume of cylender is 50.24 and total cost of 50.24 liter  milk is 2009.6000000000001\n"
          ]
        }
      ],
      "source": [
        "# Write a program to find the volume of the cylinder. Also find the cost when ,when the cost of1litre milk is 40Rs.\n",
        "r=float(input(\"radious:\"))\n",
        "h=float(input(\"height:\"))\n",
        "vol=(3.14*r*r*h)\n",
        "cost=(40*vol)\n",
        "print(f\"volume of cylender is {vol} and total cost of {vol} liter  milk is {cost}\")"
      ]
    },
    {
      "cell_type": "code",
      "execution_count": null,
      "metadata": {
        "colab": {
          "base_uri": "https://localhost:8080/"
        },
        "id": "hjjGhhEwYC2N",
        "outputId": "acbc4cc9-b927-4351-9a7e-a8409852ae6b"
      },
      "outputs": [
        {
          "name": "stdout",
          "output_type": "stream",
          "text": [
            "1 1 2 3 5 8 13 21 34 55 "
          ]
        }
      ],
      "source": [
        "def fabonacci(n):\n",
        "  if n==0 or n==1:\n",
        "    return n\n",
        "  else:\n",
        "    return fabonacci(n-1)+fabonacci(n-2)\n",
        "\n",
        "for i in range(1,11):\n",
        "  fabo=fabonacci(i)\n",
        "  print(fabo,end=\" \")"
      ]
    },
    {
      "cell_type": "code",
      "execution_count": null,
      "metadata": {
        "id": "e45GvxxPi2DE"
      },
      "outputs": [],
      "source": [
        "#search any given num in list aur not\n",
        "list1=[]\n",
        "n=int(input(\"enter the number that has in list\"))\n",
        "while 1<=n:\n",
        "  num1=int(input(\"enter the list number 1 by on 1\"))\n",
        "  list1.append(num1)\n",
        "  n=n-1\n",
        "num2=int(input(\"enter the search num in list1 \"))\n",
        "for i in list1:\n",
        "  if num2==i:\n",
        "    print(\"yes match\")\n"
      ]
    },
    {
      "cell_type": "code",
      "execution_count": null,
      "metadata": {
        "colab": {
          "base_uri": "https://localhost:8080/"
        },
        "id": "5L2jJq7NHklK",
        "outputId": "9ec77429-0415-4024-b21d-01cdd87f35ec"
      },
      "outputs": [
        {
          "name": "stdout",
          "output_type": "stream",
          "text": [
            "100\n",
            "001\n",
            "num 100 is not pelindrome\n"
          ]
        }
      ],
      "source": [
        "#check num is pelindrome or not\n",
        "num=int(input())\n",
        "num1=str(num)[::-1]\n",
        "print(num1)\n",
        "if num==int(num1):\n",
        "  print(f\"num {num} is pelindrome\")\n",
        "else:\n",
        "   print(f\"num {num} is not pelindrome\")\n"
      ]
    },
    {
      "cell_type": "code",
      "execution_count": null,
      "metadata": {
        "id": "zPmmVct2LFwz"
      },
      "outputs": [],
      "source": []
    },
    {
      "cell_type": "code",
      "execution_count": null,
      "metadata": {
        "colab": {
          "base_uri": "https://localhost:8080/"
        },
        "id": "JVrxj4R_LPts",
        "outputId": "92e05c56-0fad-4ab3-d302-b599ee52aa6b"
      },
      "outputs": [
        {
          "name": "stdout",
          "output_type": "stream",
          "text": [
            "[2, 4]\n",
            "final list [2, 4, 7, 9]\n"
          ]
        }
      ],
      "source": [
        "list1=[1,2,3,4,5]\n",
        "list2=[6,7,8,9,10]\n",
        "list3=[]\n",
        "for i in list1:\n",
        "  if i%2==0:\n",
        "    list3.append(i)\n",
        "print(list3)\n",
        "for j in list2:\n",
        "  if j%2!=0:\n",
        "    list3.append(j)\n",
        "print(\"final list\",list3)\n"
      ]
    },
    {
      "cell_type": "code",
      "execution_count": 3,
      "metadata": {
        "colab": {
          "base_uri": "https://localhost:8080/"
        },
        "id": "CU3ar3qfO0z_",
        "outputId": "405de990-85db-42cb-e59b-dc87e606b9e6"
      },
      "outputs": [
        {
          "output_type": "stream",
          "name": "stdout",
          "text": [
            "1 2 3 4 5 6 7 8 9 10 \n",
            "2 4 6 8 10 12 14 16 18 20 \n",
            "3 6 9 12 15 18 21 24 27 30 \n",
            "4 8 12 16 20 24 28 32 36 40 \n",
            "5 10 15 20 25 30 35 40 45 50 \n",
            "6 12 18 24 30 36 42 48 54 60 \n",
            "7 14 21 28 35 42 49 56 63 70 \n",
            "8 16 24 32 40 48 56 64 72 80 \n",
            "9 18 27 36 45 54 63 72 81 90 \n",
            "10 20 30 40 50 60 70 80 90 100 \n"
          ]
        }
      ],
      "source": [
        "#Print multiplication table form 1 to 10\n",
        "for i in range(1,11):\n",
        "  for j in range(1,11):\n",
        "    k=i*j\n",
        "    print(k,end=' ')\n",
        "  print()\n"
      ]
    },
    {
      "cell_type": "code",
      "source": [
        "#User will provide 2 numbers you have to find the HCF of those 2 numbers\n",
        "num1= int(input(\"enter the first num\"))\n",
        "num2= int(input(\"enter the second num\"))\n",
        "x_div=[]\n",
        "y_div=[]\n",
        "for i in range(1,num1+1):\n",
        "  if num1%i==0:\n",
        "    x_div.append(i)\n",
        "for j in range(1,num2+1):\n",
        "  if num2%j==0:\n",
        "    y_div.append(j)\n",
        "comman_list=[]\n",
        "for k in x_div:\n",
        "  if k in y_div:\n",
        "    comman_list.append(k)\n",
        "print(\"HCF of given number\",max(comman_list))\n"
      ],
      "metadata": {
        "colab": {
          "base_uri": "https://localhost:8080/"
        },
        "id": "QVucPsiIX641",
        "outputId": "f0fbaec7-8aae-4411-b648-a5f51dee5c7e"
      },
      "execution_count": 9,
      "outputs": [
        {
          "output_type": "stream",
          "name": "stdout",
          "text": [
            "enter the first num34\n",
            "enter the second num56\n",
            "HCF of given number 2\n"
          ]
        }
      ]
    },
    {
      "cell_type": "code",
      "source": [
        "#Write a program to find the sum of first n numbers, where n will be provided by the user.\n",
        "user_input=int(input(\"enter the num\"))\n",
        "sum=0\n",
        "for i in range(user_input+1):\n",
        "  sum=sum+i\n",
        "print(\"sum is:\",sum)"
      ],
      "metadata": {
        "colab": {
          "base_uri": "https://localhost:8080/"
        },
        "id": "4tYqJYl_dwDf",
        "outputId": "8ecaca94-66d2-4841-a68b-fb5d8399ff1a"
      },
      "execution_count": 13,
      "outputs": [
        {
          "output_type": "stream",
          "name": "stdout",
          "text": [
            "enter the num10\n",
            "sum is: 55\n"
          ]
        }
      ]
    },
    {
      "cell_type": "code",
      "source": [
        "num=int(input(\"enter the number:\"))\n",
        "for i in range(1,num+1):\n",
        "  for j in range(1,i+1):\n",
        "    print(i,end=\" \")\n",
        "  print()"
      ],
      "metadata": {
        "colab": {
          "base_uri": "https://localhost:8080/"
        },
        "id": "3F4zVVLkiEy0",
        "outputId": "747c1524-9492-4095-e469-703a0e55be8a"
      },
      "execution_count": 17,
      "outputs": [
        {
          "output_type": "stream",
          "name": "stdout",
          "text": [
            "enter the number:5\n",
            "1 \n",
            "2 2 \n",
            "3 3 3 \n",
            "4 4 4 4 \n",
            "5 5 5 5 5 \n"
          ]
        }
      ]
    },
    {
      "cell_type": "code",
      "source": [
        "num=int(input(\"enter the number:\"))\n",
        "for i in range(1,num+1):\n",
        "  for j in range(1,i+1):\n",
        "    print(i,end=\" \")\n",
        "  print(\"\\n\")"
      ],
      "metadata": {
        "colab": {
          "base_uri": "https://localhost:8080/"
        },
        "id": "2Xl7kcaijgdG",
        "outputId": "295c2b53-68e1-4aaa-9d47-8ae1120993fe"
      },
      "execution_count": 19,
      "outputs": [
        {
          "output_type": "stream",
          "name": "stdout",
          "text": [
            "enter the number:5\n",
            "1 \n",
            "\n",
            "2 2 \n",
            "\n",
            "3 3 3 \n",
            "\n",
            "4 4 4 4 \n",
            "\n",
            "5 5 5 5 5 \n",
            "\n"
          ]
        }
      ]
    }
  ],
  "metadata": {
    "colab": {
      "provenance": [],
      "include_colab_link": true
    },
    "kernelspec": {
      "display_name": "Python 3",
      "name": "python3"
    },
    "language_info": {
      "name": "python"
    }
  },
  "nbformat": 4,
  "nbformat_minor": 0
}